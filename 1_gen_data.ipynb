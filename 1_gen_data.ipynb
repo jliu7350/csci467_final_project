{
 "cells": [
  {
   "cell_type": "code",
   "execution_count": 1,
   "id": "38fb6923-f176-486e-9a09-039b306aede5",
   "metadata": {},
   "outputs": [],
   "source": [
    "# *EXECUTE*\n",
    "import requests, time, os\n",
    "import pandas as pd\n",
    "\n",
    "from bs4 import BeautifulSoup"
   ]
  },
  {
   "cell_type": "code",
   "execution_count": null,
   "id": "e671bbc1-1747-4dc3-8ea6-460da830641c",
   "metadata": {},
   "outputs": [],
   "source": [
    "# Query data\n",
    "# *EXECUTE*\n",
    "\n",
    "responses = []\n",
    "page_count = 65\n",
    "for i in range(page_count):\n",
    "    res = requests.get(\"https://steamspy.com/api.php?request=all&page=\" + str(i))\n",
    "    if res is not None and res.ok:\n",
    "        responses.append(res.json())\n",
    "        print(\"Found page\", i)\n",
    "    else:\n",
    "        print(\"Error on request with page id\", i)\n",
    "        responses.append({})\n",
    "    \n",
    "    if i != page_count - 1:\n",
    "        time.sleep(70)\n",
    "ldict = []\n",
    "for r in responses:\n",
    "    for k in r.keys():\n",
    "        ldict.append(r[k])\n",
    "\n",
    "df = pd.DataFrame(ldict)\n",
    "df.to_csv(\"data/raw.csv\", index=False)\n",
    "print(df)"
   ]
  },
  {
   "cell_type": "code",
   "execution_count": null,
   "id": "267002a0-bb88-413f-a71c-69a665960350",
   "metadata": {},
   "outputs": [],
   "source": [
    "# Merge data; I had a bug that interrupted my downloads.\n",
    "\n",
    "d1, d2, d3, d4 = pd.read_csv(\"data/raw13.csv\"), pd.read_csv(\"data/raw49.csv\"), pd.read_csv(\"data/raw59.csv\"), pd.read_csv(\"data/raw61.csv\")\n",
    "fin = pd.concat([d1, d2, d3, d4])\n",
    "fin = fin.reset_index()\n",
    "fin.to_csv(\"data/raw.csv\", index=False)"
   ]
  },
  {
   "cell_type": "code",
   "execution_count": null,
   "id": "453e1789-9b96-4a74-af15-f49da91aa3ed",
   "metadata": {},
   "outputs": [],
   "source": [
    "# Create extra columns and clean\n",
    "# *EXECUTE*\n",
    "\n",
    "df = pd.read_csv(\"data/steam_games.csv\")\n",
    "downloaded_files = [int(i.split(\".\")[0]) for i in os.listdir(\"data/descriptions\")]\n",
    "\n",
    "ids, total_revs, desc_downloaded = [], [], []\n",
    "for url in df.url:\n",
    "    url = url.split(\"/\")\n",
    "    if len(url) <= 4 or len(url[4]) == 0:\n",
    "        ids.append(-1)\n",
    "    else:\n",
    "        ids.append(int(url[4]))\n",
    "    if ids[-1] in downloaded_files:\n",
    "        desc_downloaded.append(True)\n",
    "    else:\n",
    "        desc_downloaded.append(False)\n",
    "        \n",
    "for all_reviews in df.all_reviews:\n",
    "    try:\n",
    "        all_reviews = all_reviews[all_reviews.index(\"(\") + 1:all_reviews.index(\")\")]\n",
    "        total_revs.append(int(all_reviews.replace(\",\", \"\")))\n",
    "    except:\n",
    "        total_revs.append(-1)\n",
    "\n",
    "df[\"appid\"] = ids\n",
    "df[\"total_reviews\"] = total_revs\n",
    "df[\"downloaded\"] = desc_downloaded\n",
    "df = df[df.appid>-1][df.total_reviews>-1]\n",
    "df = df.sample(frac=1).reset_index()\n",
    "print(df)"
   ]
  },
  {
   "cell_type": "code",
   "execution_count": 52,
   "id": "b2957a7b-c47f-46f4-ab1d-692b3a09f947",
   "metadata": {},
   "outputs": [],
   "source": [
    "# Download pages\n",
    "# *EXECUTE*\n",
    "\n",
    "for i, r in df.iterrows():\n",
    "    if i % 10 == 0:\n",
    "        if not r.downloaded:\n",
    "            df.to_csv(\"data/partial.csv\", index=False)\n",
    "    if r.types != \"app\" or r.downloaded:\n",
    "        continue\n",
    "    # Make request\n",
    "    print(\"Redownloading\", i)\n",
    "    try:\n",
    "        res = requests.get(r.url)\n",
    "        if res is not None and res.ok:\n",
    "            res = res.content.decode('utf-8')\n",
    "            with open(\"data/descriptions/\" + str(r.appid) + '.txt', 'w', encoding='utf-8') as f:\n",
    "                f.write(res)\n",
    "                df.at[i, \"downloaded\"] = True\n",
    "        else:\n",
    "            print(\"Error at index\", i)\n",
    "    except:\n",
    "        print(\"Error at index\", i)\n",
    "        df.at[i, \"downloaded\"] = False\n",
    "        time.sleep(10)\n",
    "    time.sleep(2)"
   ]
  },
  {
   "cell_type": "code",
   "execution_count": null,
   "id": "d76f2090",
   "metadata": {},
   "outputs": [],
   "source": [
    "# Extract game description\n",
    "# *EXECUTE*\n",
    "df = pd.read_csv(\"data/partial.csv\")\n",
    "descriptions = []\n",
    "errors = []\n",
    "for i, r in df.iterrows():\n",
    "    if i % 100 == 0:\n",
    "        print(i, \"/\", len(df))\n",
    "    contents = \"\"\n",
    "    with open(\"data/descriptions/\" + str(r.appid) + '.txt', 'r', encoding='utf-8') as f:\n",
    "        contents = f.read()\n",
    "    \n",
    "    soup = BeautifulSoup(contents).select(\"#game_area_description\")\n",
    "    if len(soup) == 0:\n",
    "        descriptions.append(\"\")\n",
    "        errors.append(r.appid)\n",
    "        if len(errors) % 10 == 0:\n",
    "            print(\"At\", len(errors), \"errors.\")\n",
    "        df.at[i, \"downloaded\"] = False\n",
    "    else:\n",
    "        descriptions.append(soup[0].text)\n",
    "\n",
    "df[\"full_description\"] = descriptions\n",
    "df.to_csv(\"data/dataset_draft.csv\", index=False)\n",
    "print(\"Finished extracting game descriptions;\", len(errors), \"total errors.\")"
   ]
  },
  {
   "cell_type": "code",
   "execution_count": 14,
   "id": "12656ab9",
   "metadata": {},
   "outputs": [
    {
     "name": "stdout",
     "output_type": "stream",
     "text": [
      "Index(['index', 'url', 'types', 'name', 'desc_snippet', 'recent_reviews',\n",
      "       'all_reviews', 'release_date', 'developer', 'publisher', 'popular_tags',\n",
      "       'game_details', 'languages', 'achievements', 'genre',\n",
      "       'game_description', 'mature_content', 'minimum_requirements',\n",
      "       'recommended_requirements', 'original_price', 'discount_price', 'appid',\n",
      "       'total_reviews', 'downloaded', 'full_description'],\n",
      "      dtype='object')\n"
     ]
    }
   ],
   "source": [
    "print(df.columns)\n",
    "df = df.drop(columns=[\"desc_snippet\", \"achievements\"])"
   ]
  },
  {
   "cell_type": "code",
   "execution_count": 28,
   "id": "c1763016",
   "metadata": {},
   "outputs": [
    {
     "name": "stdout",
     "output_type": "stream",
     "text": [
      "\n",
      "About This Game\n",
      "\n",
      "\t\t\t\t\t\t\tDon’t miss the single-player campaign from the game that IGN awarded Best Xbox One Game of 2014, the game that Polygon rated 9 out of 10, and the game that Eurogamer calls “a breath of fresh air.” In Sunset Overdrive, the year is 2027 and Sunset City is under siege. A contaminated energy drink has transformed most of the population into toxic mutants. For many it's the end of the world, but for you it’s a dream come true. Your old boss? Dead. Your boring job? Gone. Transform the open-world into your tactical playground by grinding, vaulting and wall-running across the city while using a devastating, unconventional arsenal. With hyper-agility, unique weapons, and customizable special abilities, Sunset Overdrive rewrites the rules of traditional shooters and delivers an explosive, irreverent, stylish, and totally unique adventure.\n",
      "\n",
      "\n",
      "Embrace the chaos of Sunset City through a hyper-colorful, post-apocalyptic single-player campaign and two bonus expansions, Mystery of Mooil Rig and Dawn of the Rise of the Fallen Machines. Outgun crazed mutants, homicidal robots, and villainous thugs on your journeys with the included Weapons Pack.\n",
      "\n",
      "\n",
      "Features:\n",
      "\n",
      "- An Open World with No Rules - Leap off buildings, run along walls, and grind power lines and rails to destroy your foes from every angle.\n",
      "\n",
      "- Over-the-top Weapons - Collect and upgrade an arsenal of unconventional weapons that use items like dynamite, fireworks, harpoons, and acid to destroy your enemies.\t\t\t\t\t\t\n",
      " About This Game Don’t miss the single-player campaign from the game that IGN awarded Best Xbox One Game of 2014, the game that Polygon rated 9 out of 10, and the game that Eurogamer calls “a breath of fresh air.” In Sunset Overdrive, the year is 2027 and Sunset City is under siege. A contaminated energy drink has transformed most of the population into toxic mutants. For many it's the end of the world, but for you it’s a dream come true. Your old boss? Dead. Your boring job? Gone. Transform the open-world into your tactical playground by grinding, vaulting and wall-running across the city while using a devastating, unconventional arsenal. With hyper-agility, unique weapons, and customizable special abilities, Sunset Overdrive rewrites the rules of traditional shooters and delivers an explosive, irreverent, stylish, and totally unique adventure.  Embrace the chaos of Sunset City through a hyper-colorful, post-apocalyptic single-player campaign and two bonus expansions, Mystery of Mooil Rig and Dawn of the Rise of the Fallen Machines. Outgun crazed mutants, homicidal robots, and villainous thugs on your journeys with the included Weapons Pack.  Features: - An Open World with No Rules - Leap off buildings, run along walls, and grind power lines and rails to destroy your foes from every angle. - Over-the-top Weapons - Collect and upgrade an arsenal of unconventional weapons that use items like dynamite, fireworks, harpoons, and acid to destroy your enemies.\n"
     ]
    }
   ],
   "source": [
    "print(df.iloc[7].full_description)\n",
    "print(df.iloc[7].game_description)"
   ]
  },
  {
   "cell_type": "code",
   "execution_count": null,
   "id": "6b73c8c6",
   "metadata": {},
   "outputs": [],
   "source": []
  }
 ],
 "metadata": {
  "kernelspec": {
   "display_name": "Python 3 (ipykernel)",
   "language": "python",
   "name": "python3"
  },
  "language_info": {
   "codemirror_mode": {
    "name": "ipython",
    "version": 3
   },
   "file_extension": ".py",
   "mimetype": "text/x-python",
   "name": "python",
   "nbconvert_exporter": "python",
   "pygments_lexer": "ipython3",
   "version": "3.9.13"
  }
 },
 "nbformat": 4,
 "nbformat_minor": 5
}
